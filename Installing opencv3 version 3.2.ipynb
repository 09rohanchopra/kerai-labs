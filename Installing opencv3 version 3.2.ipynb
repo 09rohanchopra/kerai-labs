{
 "cells": [
  {
   "cell_type": "markdown",
   "metadata": {},
   "source": [
    "# Installing OpenCV with CUDA support"
   ]
  },
  {
   "cell_type": "markdown",
   "metadata": {},
   "source": [
    "## Install dependencies\n",
    "\n",
    "1. Update apt-get\n",
    "    ~~~\n",
    "    sudo apt-get update\n",
    "    ~~~\n",
    "2. Install dependencies\n",
    "    ~~~\n",
    "    sudo apt-get install -y build-essential cmake git\n",
    "    sudo apt-get install -y pkg-config unzip ffmpeg qtbase5-dev \n",
    "    sudo apt-get install -y python-dev python3-dev python-numpy python3-numpy\n",
    "    sudo apt-get install -y libopencv-dev libgtk-3-dev libdc1394-22 libdc1394-22-dev \n",
    "    sudo apt-get install -y libjpeg-dev libpng12-dev libtiff5-dev libjasper-dev\n",
    "    sudo apt-get install -y libavcodec-dev libavformat-dev libswscale-dev \n",
    "    sudo apt-get install -y libxine2-dev libgstreamer0.10-dev libgstreamer-plugins-base0.10-dev\n",
    "    sudo apt-get install -y libv4l-dev libtbb-dev libfaac-dev libmp3lame-dev \n",
    "    sudo apt-get install -y libopencore-amrnb-dev libopencore-amrwb-dev libtheora-dev\n",
    "    sudo apt-get install -y libvorbis-dev libxvidcore-dev v4l-utils python-vtk\n",
    "    sudo apt-get install -y liblapacke-dev libopenblas-dev checkinstall\n",
    "    sudo apt-get install -y libgdal-dev\n",
    "    ~~~"
   ]
  },
  {
   "cell_type": "markdown",
   "metadata": {},
   "source": [
    "## Download OpenCV and OpenCV's extra modules"
   ]
  },
  {
   "cell_type": "markdown",
   "metadata": {},
   "source": [
    "~~~\n",
    "cd ~\n",
    "wget -O opencv.zip https://github.com/Itseez/opencv/archive/3.2.0.zip\n",
    "unzip opencv.zip\n",
    "~~~"
   ]
  },
  {
   "cell_type": "markdown",
   "metadata": {},
   "source": [
    "~~~\n",
    "wget -O opencv_contrib.zip https://github.com/Itseez/opencv_contrib/archive/3.2.0.zip\n",
    "unzip opencv_contrib.zip\n",
    "~~~"
   ]
  },
  {
   "cell_type": "markdown",
   "metadata": {},
   "source": [
    "## Create directory to house build files"
   ]
  },
  {
   "cell_type": "markdown",
   "metadata": {},
   "source": [
    "~~~\n",
    "cd opencv\n",
    "mkdir build\n",
    "cd build/  \n",
    "~~~"
   ]
  },
  {
   "cell_type": "markdown",
   "metadata": {},
   "source": [
    "## Build\n",
    "### Use cmake to configure the build. "
   ]
  },
  {
   "cell_type": "markdown",
   "metadata": {},
   "source": [
    "~~~\n",
    "cmake -D CMAKE_BUILD_TYPE=RELEASE \\\n",
    "-D CMAKE_INSTALL_PREFIX=/usr/local \\\n",
    "-D FORCE_VTK=ON \\\n",
    "-D WITH_TBB=ON \\\n",
    "-D WITH_V4L=ON \\\n",
    "-D WITH_QT=ON \\\n",
    "-D WITH_OPENGL=ON \\\n",
    "-D WITH_CUDA=ON \\\n",
    "-D ENABLE_FAST_MATH=1 \\\n",
    "-D CUDA_FAST_MATH=1 \\\n",
    "-D WITH_CUBLAS=ON \\\n",
    "-D CUDA_NVCC_FLAGS=\"-D_FORCE_INLINES\" \\\n",
    "-D OPENCV_EXTRA_MODULES_PATH=~/opencv_contrib/modules \\\n",
    "-D WITH_GDAL=ON \\\n",
    "-D WITH_XINE=ON \\\n",
    "-D INSTALL_PYTHON_EXAMPLES=ON \\\n",
    "-D INSTALL_C_EXAMPLES=OFF \\\n",
    "-D BUILD_EXAMPLES=ON ..\n",
    "~~~"
   ]
  },
  {
   "cell_type": "markdown",
   "metadata": {},
   "source": [
    "Make sure the log says\n",
    "\n",
    " -     Use CUFFT:                   YES\n",
    " -     Use CUBLAS:                  YES\n",
    " -     Use fast math:               YES\n",
    "\n",
    "in the Nvidia cuda section"
   ]
  },
  {
   "cell_type": "markdown",
   "metadata": {},
   "source": [
    "Check that your CMake command exited without error and compile OpenCV:"
   ]
  },
  {
   "cell_type": "markdown",
   "metadata": {},
   "source": [
    "~~~\n",
    "make -j8\n",
    "~~~"
   ]
  },
  {
   "cell_type": "markdown",
   "metadata": {},
   "source": [
    "## Installation"
   ]
  },
  {
   "cell_type": "markdown",
   "metadata": {},
   "source": [
    "Run the following commands to install OpenCV"
   ]
  },
  {
   "cell_type": "markdown",
   "metadata": {},
   "source": [
    "~~~\n",
    "sudo make install\n",
    "sudo /bin/bash -c 'echo \"/usr/local/lib\" > /etc/ld.so.conf.d/opencv.conf'\n",
    "sudo ldconfig\n",
    "sudo apt-get update\n",
    "~~~"
   ]
  },
  {
   "cell_type": "markdown",
   "metadata": {
    "collapsed": true
   },
   "source": [
    "And reboot your computer"
   ]
  },
  {
   "cell_type": "markdown",
   "metadata": {},
   "source": [
    "## Check installation"
   ]
  },
  {
   "cell_type": "code",
   "execution_count": 2,
   "metadata": {
    "collapsed": true
   },
   "outputs": [],
   "source": [
    "import cv2"
   ]
  },
  {
   "cell_type": "code",
   "execution_count": 3,
   "metadata": {},
   "outputs": [
    {
     "data": {
      "text/plain": [
       "'3.2.0'"
      ]
     },
     "execution_count": 3,
     "metadata": {},
     "output_type": "execute_result"
    }
   ],
   "source": [
    "cv2.__version__"
   ]
  }
 ],
 "metadata": {
  "kernelspec": {
   "display_name": "Python 3",
   "language": "python",
   "name": "python3"
  },
  "language_info": {
   "codemirror_mode": {
    "name": "ipython",
    "version": 3
   },
   "file_extension": ".py",
   "mimetype": "text/x-python",
   "name": "python",
   "nbconvert_exporter": "python",
   "pygments_lexer": "ipython3",
   "version": "3.5.2"
  }
 },
 "nbformat": 4,
 "nbformat_minor": 2
}
